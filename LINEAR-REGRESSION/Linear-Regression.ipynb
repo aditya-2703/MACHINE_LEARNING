{
 "cells": [
  {
   "cell_type": "markdown",
   "id": "7f0361cd",
   "metadata": {},
   "source": [
    "# Linear Regression"
   ]
  },
  {
   "cell_type": "markdown",
   "id": "560fd147",
   "metadata": {},
   "source": [
    "algorithm\n",
    "\n",
    "    - y = mx + c \n",
    "    - finding m\n",
    "        - first pick random\n",
    "        - by n iteration pick M which is suitable\n",
    "            - M = m + Δm\n",
    "            - Δm = derivation(y(predict)-y(actual))*learning rate\n",
    "        - now you have your m(coef)\n",
    "    - finding c\n",
    "        - first pick random\n",
    "        - by n iteration pick C which is suitable\n",
    "            - C = c + Δc\n",
    "            - Δc = derivation(y(predict)-y(actual))*learning rate\n",
    "        - now you have your c(intercept)\n",
    "    - calculate y\n",
    "        - y = mx + c \n",
    "        - you have m , c and x as feature so calculate y\n",
    "        "
   ]
  },
  {
   "cell_type": "code",
   "execution_count": 8,
   "id": "05007c8b",
   "metadata": {},
   "outputs": [],
   "source": [
    "# importing lib\n",
    "import numpy as np\n",
    "import matplotlib.pyplot as plt\n",
    "from sklearn.datasets import make_regression"
   ]
  },
  {
   "cell_type": "code",
   "execution_count": 75,
   "id": "f77170c8",
   "metadata": {},
   "outputs": [],
   "source": [
    "# main model class\n",
    "class Linear_regression:\n",
    "    #initializing learning rate\n",
    "    #by default it is 0.1\n",
    "    def __init__(self,lr=0.1):\n",
    "        self.lr = lr\n",
    "    #in this function actual m and c calculating here\n",
    "    def fit(self,features,lables):\n",
    "        self.features = features\n",
    "        self.lables = lables.reshape(-1,1) \n",
    "        \n",
    "        #first initializing m and c randomly\n",
    "        self.M = np.random.random()\n",
    "        self.C = np.random.random()\n",
    "        \n",
    "        \n",
    "        error=[]\n",
    "        #you can do as many iteration you can here there is 50\n",
    "        for i in range(150):\n",
    "            #update gredient descent and append the error \n",
    "            self.gredient_descent()\n",
    "            error.append(self.error())\n",
    "        return error\n",
    "        \n",
    "    def gredient_descent(self):\n",
    "        #update value of M and C  \n",
    "        delta_m,delta_c = self.gredient()\n",
    "        self.M -= delta_m*self.lr\n",
    "        self.C -= delta_c*self.lr\n",
    "    \n",
    "    def gredient(self):\n",
    "        #Find the Δm and Δc here\n",
    "        delta_m = ((self.predict(self.features) - self.lables)*self.features).mean()\n",
    "        delta_c = (self.predict(self.features)-self.lables).mean()\n",
    "        return delta_m,delta_c\n",
    "\n",
    "    def predict(self,X):\n",
    "        #predict the given features by applying simple formula\n",
    "        return (self.M*X)+self.C\n",
    "    \n",
    "    def error(self):\n",
    "        #calculating error\n",
    "        return ((self.predict(self.features)-self.lables)**2).sum()"
   ]
  },
  {
   "cell_type": "code",
   "execution_count": 84,
   "id": "be12a369",
   "metadata": {},
   "outputs": [],
   "source": [
    "# building model\n",
    "model = Linear_regression()"
   ]
  },
  {
   "cell_type": "code",
   "execution_count": 85,
   "id": "d366c2c9",
   "metadata": {},
   "outputs": [],
   "source": [
    "# extracting data\n",
    "bias =100\n",
    "features,labels= make_regression(n_features=1, noise=10, bias=bias, random_state=42)"
   ]
  },
  {
   "cell_type": "code",
   "execution_count": 78,
   "id": "dd51b652",
   "metadata": {},
   "outputs": [],
   "source": [
    "# \n",
    "error= model.fit(features,labels)"
   ]
  },
  {
   "cell_type": "code",
   "execution_count": 79,
   "id": "1cd2037d",
   "metadata": {},
   "outputs": [
    {
     "data": {
      "text/plain": [
       "<matplotlib.collections.PathCollection at 0x21a80bb7a60>"
      ]
     },
     "execution_count": 79,
     "metadata": {},
     "output_type": "execute_result"
    },
    {
     "data": {
      "image/png": "[encoded data removed]",
      "text/plain": [
       "<Figure size 432x288 with 1 Axes>"
      ]
     },
     "metadata": {
      "needs_background": "light"
     },
     "output_type": "display_data"
    }
   ],
   "source": [
    "plt.scatter(features,labels)"
   ]
  },
  {
   "cell_type": "code",
   "execution_count": 80,
   "id": "7275b802",
   "metadata": {},
   "outputs": [
    {
     "data": {
      "text/plain": [
       "[<matplotlib.lines.Line2D at 0x21a811dcc10>]"
      ]
     },
     "execution_count": 80,
     "metadata": {},
     "output_type": "execute_result"
    },
    {
     "data": {
      "image/png": "[encoded data removed]",
      "text/plain": [
       "<Figure size 432x288 with 1 Axes>"
      ]
     },
     "metadata": {
      "needs_background": "light"
     },
     "output_type": "display_data"
    }
   ],
   "source": [
    "plt.plot(error)"
   ]
  },
  {
   "cell_type": "code",
   "execution_count": 81,
   "id": "c7023adf",
   "metadata": {},
   "outputs": [
    {
     "data": {
      "text/plain": [
       "44.43678244018426"
      ]
     },
     "execution_count": 81,
     "metadata": {},
     "output_type": "execute_result"
    }
   ],
   "source": [
    "model.M"
   ]
  },
  {
   "cell_type": "code",
   "execution_count": 82,
   "id": "5dd77966",
   "metadata": {},
   "outputs": [
    {
     "data": {
      "text/plain": [
       "101.16492868827815"
      ]
     },
     "execution_count": 82,
     "metadata": {},
     "output_type": "execute_result"
    }
   ],
   "source": [
    "model.C"
   ]
  },
  {
   "cell_type": "code",
   "execution_count": 83,
   "id": "8830dbf5",
   "metadata": {},
   "outputs": [
    {
     "data": {
      "text/plain": [
       "<matplotlib.legend.Legend at 0x21a815a6730>"
      ]
     },
     "execution_count": 83,
     "metadata": {},
     "output_type": "execute_result"
    },
    {
     "data": {
      "image/png": "[encoded data removed]",
      "text/plain": [
       "<Figure size 432x288 with 1 Axes>"
      ]
     },
     "metadata": {
      "needs_background": "light"
     },
     "output_type": "display_data"
    }
   ],
   "source": [
    "plt.scatter(features,labels)\n",
    "plt.plot(features,model.predict(features),label=\"Predicted line\",color=\"orange\")\n",
    "plt.legend()"
   ]
  }
 ],
 "metadata": {
  "kernelspec": {
   "display_name": "Python 3 (ipykernel)",
   "language": "python",
   "name": "python3"
  },
  "language_info": {
   "codemirror_mode": {
    "name": "ipython",
    "version": 3
   },
   "file_extension": ".py",
   "mimetype": "text/x-python",
   "name": "python",
   "nbconvert_exporter": "python",
   "pygments_lexer": "ipython3",
   "version": "3.9.6"
  }
 },
 "nbformat": 4,
 "nbformat_minor": 5
}
