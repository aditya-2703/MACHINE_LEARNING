{
 "cells": [
  {
   "cell_type": "markdown",
   "id": "352061f2",
   "metadata": {},
   "source": [
    "# K-mean clusters"
   ]
  },
  {
   "cell_type": "markdown",
   "id": "c87814a3",
   "metadata": {},
   "source": [
    "how it Work\n",
    "\n",
    "    - create centers\n",
    "        - n-clustres as parameter n is any number\n",
    "    - acc to centers distribute points\n",
    "    - minimize distance \n",
    "    - optimize algorithm by repeating whole process\n",
    "  \n",
    "terms\n",
    "\n",
    "    - center - the centroids of each group\n",
    "        - it has points where the point is some of features points\n",
    "    - lablels\n",
    "        - indexes of group which represent color we can say\n",
    "    - cluster \n",
    "        - class \n",
    "            - having property of centers and points\n",
    "    "
   ]
  },
  {
   "cell_type": "code",
   "execution_count": 9,
   "id": "f50d8018",
   "metadata": {},
   "outputs": [],
   "source": [
    "# importing lib\n",
    "import numpy as np\n",
    "import pandas as pd\n",
    "import seaborn as sb\n",
    "import matplotlib.pyplot as plt\n",
    "from sklearn.datasets import make_blobs"
   ]
  },
  {
   "cell_type": "code",
   "execution_count": 10,
   "id": "9a9923cb",
   "metadata": {},
   "outputs": [],
   "source": [
    "# loading data\n",
    "features , color_group = make_blobs(centers=3,random_state=42)"
   ]
  },
  {
   "cell_type": "code",
   "execution_count": 12,
   "id": "02d812d2",
   "metadata": {},
   "outputs": [
    {
     "name": "stderr",
     "output_type": "stream",
     "text": [
      "c:\\users\\aditya\\appdata\\local\\programs\\python\\python39\\lib\\site-packages\\seaborn\\_decorators.py:36: FutureWarning: Pass the following variables as keyword args: x, y. From version 0.12, the only valid positional argument will be `data`, and passing other arguments without an explicit keyword will result in an error or misinterpretation.\n",
      "  warnings.warn(\n"
     ]
    },
    {
     "data": {
      "text/plain": [
       "<AxesSubplot:>"
      ]
     },
     "execution_count": 12,
     "metadata": {},
     "output_type": "execute_result"
    },
    {
     "data": {
      "image/png": "[encoded data removed]",
      "text/plain": [
       "<Figure size 432x288 with 1 Axes>"
      ]
     },
     "metadata": {
      "needs_background": "light"
     },
     "output_type": "display_data"
    }
   ],
   "source": [
    "# ploting data \n",
    "sb.scatterplot(features[:,0],features[:,1],hue=color_group)"
   ]
  },
  {
   "cell_type": "code",
   "execution_count": 13,
   "id": "9f9a17ae",
   "metadata": {},
   "outputs": [],
   "source": [
    "# importing lib\n",
    "import random"
   ]
  },
  {
   "cell_type": "code",
   "execution_count": 7,
   "id": "e0826b18",
   "metadata": {},
   "outputs": [],
   "source": [
    "# this is cluster class where it has it's center and points for each group\n",
    "class Cluster:\n",
    "    def __init__(self,center):\n",
    "        self.center=center\n",
    "        self.points=[]\n",
    "    # formula or calculating distance from given point        \n",
    "    def distance(self,point):\n",
    "        return np.sqrt(np.sum((point-self.center)**2))\n",
    "# main class\n",
    "class K_mean:\n",
    "    # initializing n_clusters and iterations in contructor     \n",
    "    def __init__(self,n_cluster=3,max_iteration=3):\n",
    "        self.n_cluster = 3\n",
    "        self.max_iteration = max_iteration\n",
    "    # fiting features in model      \n",
    "    def fit(self,features):\n",
    "        \n",
    "        # choosing random n clusters         \n",
    "        clusters=[]\n",
    "        for i in range(self.n_cluster):\n",
    "            cluster = Cluster(center=random.choice(features))\n",
    "            clusters.append(cluster)\n",
    "        \n",
    "        # max iteration for better accuracy          \n",
    "        for iteration in range(self.max_iteration):\n",
    "    \n",
    "            # initializing lable which is group               \n",
    "            lable=[]\n",
    "            # picking each point one by one              \n",
    "            for point in features:\n",
    "                # calculating distance from every cluster to point                  \n",
    "                distance=[]\n",
    "                for cluster in clusters:\n",
    "                    distance.append(cluster.distance(point))\n",
    "    \n",
    "                # minimizing distance and add that to perticular cluster                 \n",
    "                min_dis = np.argmin(distance)\n",
    "                close_cluster = clusters[min_dis]\n",
    "                close_cluster.points.append(point)\n",
    "                lable.append(min_dis)\n",
    "            \n",
    "            # make cluster to center              \n",
    "            for cluster in clusters:\n",
    "                cluster.center = np.mean(cluster.points,axis=0)\n",
    "        \n",
    "        self.lable = lable\n",
    "        self.cluster_center_ = np.array([cluster.center for cluster in clusters])"
   ]
  },
  {
   "cell_type": "code",
   "execution_count": null,
   "id": "9c1b56d0",
   "metadata": {},
   "outputs": [
    {
     "name": "stderr",
     "output_type": "stream",
     "text": [
      "c:\\users\\aditya\\appdata\\local\\programs\\python\\python39\\lib\\site-packages\\seaborn\\_decorators.py:36: FutureWarning: Pass the following variables as keyword args: x, y. From version 0.12, the only valid positional argument will be `data`, and passing other arguments without an explicit keyword will result in an error or misinterpretation.\n",
      "  warnings.warn(\n"
     ]
    }
   ],
   "source": [
    "# building model and providing 3 as n_clusters n=3\n",
    "model = K_mean(3)\n",
    "\n",
    "# fiting features to model\n",
    "model.fit(features)\n",
    "\n",
    "# getting lables as 0,1,2\n",
    "new_color_group = model.lable\n",
    "\n",
    "# ploting data \n",
    "sb.scatterplot(features[:,0],features[:,1],hue=new_color_group)\n",
    "\n",
    "# ploating center \n",
    "for center in model.cluster_center_:\n",
    "    plt.scatter(center[0], center[1], s=60)"
   ]
  },
  {
   "cell_type": "code",
   "execution_count": null,
   "id": "8a27e030",
   "metadata": {},
   "outputs": [],
   "source": []
  }
 ],
 "metadata": {
  "kernelspec": {
   "display_name": "Python 3 (ipykernel)",
   "language": "python",
   "name": "python3"
  },
  "language_info": {
   "codemirror_mode": {
    "name": "ipython",
    "version": 3
   },
   "file_extension": ".py",
   "mimetype": "text/x-python",
   "name": "python",
   "nbconvert_exporter": "python",
   "pygments_lexer": "ipython3",
   "version": "3.9.6"
  }
 },
 "nbformat": 4,
 "nbformat_minor": 5
}
