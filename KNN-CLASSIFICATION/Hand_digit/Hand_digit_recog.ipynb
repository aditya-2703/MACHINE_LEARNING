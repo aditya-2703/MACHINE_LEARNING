{
 "cells": [
  {
   "cell_type": "markdown",
   "id": "496978bd",
   "metadata": {},
   "source": [
    "# Hand writing digit prediction"
   ]
  },
  {
   "cell_type": "markdown",
   "id": "579da29a",
   "metadata": {},
   "source": [
    "steps\n",
    "\n",
    "     - loading data\n",
    "     - building model\n",
    "        - fiting features and lables\n",
    "     - training model\n",
    "     - predicting digit by providing test data\n",
    "     - calculating accuracy and score for knowing about algorithm accuracy"
   ]
  },
  {
   "cell_type": "code",
   "execution_count": null,
   "id": "e54f16ee",
   "metadata": {},
   "outputs": [],
   "source": [
    "import matplotlib.pyplot as plt\n",
    "image = cv2.imread(\"./image.png\")\n",
    "plt.imshow(image)"
   ]
  },
  {
   "cell_type": "code",
   "execution_count": 13,
   "id": "fa3a9a60",
   "metadata": {},
   "outputs": [],
   "source": [
    "# importing lib\n",
    "import numpy as np\n",
    "from sklearn.datasets import make_blobs\n",
    "from sklearn.neighbors import KNeighborsClassifier\n",
    "from sklearn.model_selection import train_test_split\n",
    "import pandas as pd"
   ]
  },
  {
   "cell_type": "code",
   "execution_count": 3,
   "id": "4f7826ce",
   "metadata": {},
   "outputs": [],
   "source": [
    "# loading dataset\n",
    "dataset = np.load(\"mnist_train_small.npy\")"
   ]
  },
  {
   "cell_type": "code",
   "execution_count": 14,
   "id": "27c01869",
   "metadata": {},
   "outputs": [],
   "source": [
    "# extracting features and labels\n",
    "features = dataset[:, 1:]\n",
    "labels =   dataset[:, 0]"
   ]
  },
  {
   "cell_type": "code",
   "execution_count": 15,
   "id": "1455a07b",
   "metadata": {},
   "outputs": [
    {
     "data": {
      "text/plain": [
       "<matplotlib.image.AxesImage at 0x25201feee20>"
      ]
     },
     "execution_count": 15,
     "metadata": {},
     "output_type": "execute_result"
    },
    {
     "data": {
      "image/png": "[encoded data removed]",
      "text/plain": [
       "<Figure size 432x288 with 1 Axes>"
      ]
     },
     "metadata": {
      "needs_background": "light"
     },
     "output_type": "display_data"
    }
   ],
   "source": [
    "# ploting random feature for testing purpose\n",
    "plt.imshow(features[0].reshape(28,28),cmap='gray')"
   ]
  },
  {
   "cell_type": "code",
   "execution_count": 18,
   "id": "ed9b28ed",
   "metadata": {},
   "outputs": [
    {
     "data": {
      "text/plain": [
       "5"
      ]
     },
     "execution_count": 18,
     "metadata": {},
     "output_type": "execute_result"
    }
   ],
   "source": [
    "# for make sure that lables are matching with data or image(which is absolutely true) \n",
    "labels[0]"
   ]
  },
  {
   "cell_type": "code",
   "execution_count": 21,
   "id": "82ab4171",
   "metadata": {},
   "outputs": [],
   "source": [
    "# dividing test and train data\n",
    "X_train, X_test, y_train, y_test = train_test_split(features, labels, test_size=0.33, random_state=42)"
   ]
  },
  {
   "cell_type": "code",
   "execution_count": 22,
   "id": "8f15e888",
   "metadata": {},
   "outputs": [],
   "source": [
    "# initialize model\n",
    "model = KNeighborsClassifier(5)"
   ]
  },
  {
   "cell_type": "code",
   "execution_count": 23,
   "id": "511c8a92",
   "metadata": {},
   "outputs": [
    {
     "data": {
      "text/plain": [
       "KNeighborsClassifier()"
      ]
     },
     "execution_count": 23,
     "metadata": {},
     "output_type": "execute_result"
    }
   ],
   "source": [
    "# providing data to model\n",
    "model.fit(features,labels)"
   ]
  },
  {
   "cell_type": "code",
   "execution_count": 24,
   "id": "cd730bc2",
   "metadata": {},
   "outputs": [
    {
     "data": {
      "text/plain": [
       "array([5, 7, 9, 5, 2, 0, 6, 5, 5, 2], dtype=uint8)"
      ]
     },
     "execution_count": 24,
     "metadata": {},
     "output_type": "execute_result"
    }
   ],
   "source": [
    "# predict the digit\n",
    "model.predict(features[:10])"
   ]
  },
  {
   "cell_type": "code",
   "execution_count": 26,
   "id": "4f145d16",
   "metadata": {},
   "outputs": [
    {
     "data": {
      "text/plain": [
       "array([5, 7, 9, 5, 2, 0, 6, 5, 5, 2], dtype=uint8)"
      ]
     },
     "execution_count": 26,
     "metadata": {},
     "output_type": "execute_result"
    }
   ],
   "source": [
    "# testing the predicted data and labeled data\n",
    "labels[:10]"
   ]
  },
  {
   "cell_type": "code",
   "execution_count": 27,
   "id": "092a8a9d",
   "metadata": {},
   "outputs": [
    {
     "data": {
      "text/plain": [
       "0.97"
      ]
     },
     "execution_count": 27,
     "metadata": {},
     "output_type": "execute_result"
    }
   ],
   "source": [
    "# calculate accuracy by testing data\n",
    "model.score(X_test[:100],y_test[:100])"
   ]
  }
 ],
 "metadata": {
  "kernelspec": {
   "display_name": "Python 3 (ipykernel)",
   "language": "python",
   "name": "python3"
  },
  "language_info": {
   "codemirror_mode": {
    "name": "ipython",
    "version": 3
   },
   "file_extension": ".py",
   "mimetype": "text/x-python",
   "name": "python",
   "nbconvert_exporter": "python",
   "pygments_lexer": "ipython3",
   "version": "3.9.6"
  }
 },
 "nbformat": 4,
 "nbformat_minor": 5
}
